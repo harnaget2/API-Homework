{
 "cells": [
  {
   "cell_type": "code",
   "execution_count": 1,
   "metadata": {},
   "outputs": [
    {
     "name": "stdout",
     "output_type": "stream",
     "text": [
      "Collecting openweathermapy\n",
      "  Downloading openweathermapy-0.6.6.tar.gz\n",
      "Building wheels for collected packages: openweathermapy\n",
      "  Running setup.py bdist_wheel for openweathermapy: started\n",
      "  Running setup.py bdist_wheel for openweathermapy: finished with status 'done'\n",
      "  Stored in directory: C:\\Users\\harna\\AppData\\Local\\pip\\Cache\\wheels\\6e\\39\\35\\46d75eb8f74b011b8be2ab501430e2fc79a0b50c9923f0c3d3\n",
      "Successfully built openweathermapy\n",
      "Installing collected packages: openweathermapy\n",
      "Successfully installed openweathermapy-0.6.6\n"
     ]
    },
    {
     "name": "stderr",
     "output_type": "stream",
     "text": [
      "You are using pip version 9.0.1, however version 9.0.2 is available.\n",
      "You should consider upgrading via the 'python -m pip install --upgrade pip' command.\n"
     ]
    }
   ],
   "source": [
    "!pip install openweathermapy"
   ]
  },
  {
   "cell_type": "code",
   "execution_count": 47,
   "metadata": {
    "collapsed": true
   },
   "outputs": [],
   "source": [
    "import json\n",
    "import requests\n",
    "from config import api_key\n",
    "url = 'http://api.openweathermap.org/data/2.5/weather?'\n",
    "city = 'Bujumbura'\n",
    "celcius = 'units=metric'\n",
    "far = 'units=imperial'"
   ]
  },
  {
   "cell_type": "code",
   "execution_count": 48,
   "metadata": {},
   "outputs": [],
   "source": [
    "celcius_query_url = url + \"q=\" + city + \"&\" + celcius + '&APPID=' + api_key\n",
    "far_query_url = url + \"q=\" + city + \"&\" + far + '&APPID=' + api_key"
   ]
  },
  {
   "cell_type": "code",
   "execution_count": 49,
   "metadata": {},
   "outputs": [],
   "source": [
    "weather_responses_cel = requests.get(celcius_query_url)\n",
    "weather_far = requests.get(far_query_url)\n",
    "\n",
    "far_json = weather_far.json()\n",
    "cel_json = weather_responses_cel.json()\n"
   ]
  },
  {
   "cell_type": "code",
   "execution_count": 51,
   "metadata": {},
   "outputs": [
    {
     "name": "stdout",
     "output_type": "stream",
     "text": [
      "Temp in celcius is 16.99\n",
      "Temp in fahrenheit is 62.58\n"
     ]
    }
   ],
   "source": [
    "print(f\"Temp in celcius is {cel_json['main']['temp']}\")\n",
    "print(f\"Temp in fahrenheit is {far_json['main']['temp']}\")"
   ]
  },
  {
   "cell_type": "code",
   "execution_count": null,
   "metadata": {
    "collapsed": true
   },
   "outputs": [],
   "source": []
  }
 ],
 "metadata": {
  "kernelspec": {
   "display_name": "Python 3",
   "language": "python",
   "name": "python3"
  },
  "language_info": {
   "codemirror_mode": {
    "name": "ipython",
    "version": 3
   },
   "file_extension": ".py",
   "mimetype": "text/x-python",
   "name": "python",
   "nbconvert_exporter": "python",
   "pygments_lexer": "ipython3",
   "version": "3.6.3"
  }
 },
 "nbformat": 4,
 "nbformat_minor": 2
}
